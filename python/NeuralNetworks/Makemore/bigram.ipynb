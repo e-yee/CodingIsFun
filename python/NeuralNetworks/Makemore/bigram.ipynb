{
 "cells": [
  {
   "cell_type": "markdown",
   "id": "daa14c14",
   "metadata": {},
   "source": [
    "This is a section where we will learn about how to create the makemore module with two approaches, the counting way and the neural network way, to create a bigram model, which, to my understanding, is a model that predict the next character based on the previous information."
   ]
  },
  {
   "cell_type": "code",
   "execution_count": null,
   "id": "373ac9dc",
   "metadata": {},
   "outputs": [],
   "source": [
    "import torch\n",
    "import torch.nn.functional as F"
   ]
  },
  {
   "cell_type": "code",
   "execution_count": null,
   "id": "6271d35c",
   "metadata": {},
   "outputs": [],
   "source": [
    "# read the text dataset\n",
    "with open('names.txt', 'r') as f:\n",
    "    words = f.read().splitlines()"
   ]
  },
  {
   "cell_type": "code",
   "execution_count": null,
   "id": "f98dee75",
   "metadata": {},
   "outputs": [],
   "source": [
    "# get unique characters from the dataset\n",
    "chars = sorted(list(set(''.join(words))))\n",
    "num_chars = len(chars) + 1"
   ]
  },
  {
   "cell_type": "code",
   "execution_count": null,
   "id": "2cba5033",
   "metadata": {},
   "outputs": [],
   "source": [
    "# encoder and decoder\n",
    "stoi = { ch:i+1 for i,ch in enumerate(chars) }\n",
    "stoi['.'] = 0\n",
    "itos = { i:ch for ch,i in stoi.items() }"
   ]
  },
  {
   "cell_type": "markdown",
   "id": "d3d198fd",
   "metadata": {},
   "source": [
    "First approach is counting"
   ]
  },
  {
   "cell_type": "code",
   "execution_count": null,
   "id": "4d77230b",
   "metadata": {},
   "outputs": [],
   "source": [
    "# count the presence of each combination\n",
    "N = torch.zeros((num_chars, num_chars))\n",
    "\n",
    "for w in words:\n",
    "    chs = ['.'] + list(w) + ['.']\n",
    "    for ch1, ch2 in zip(chs, chs[1:]):\n",
    "        ix1 = stoi[ch1]\n",
    "        ix2 = stoi[ch2]\n",
    "        N[ix1, ix2] += 1"
   ]
  },
  {
   "cell_type": "code",
   "execution_count": null,
   "id": "2d622d89",
   "metadata": {},
   "outputs": [],
   "source": [
    "# compute the probabilities of each combination\n",
    "P = N.float()\n",
    "P /= P.sum(1, keepdim=True)"
   ]
  },
  {
   "cell_type": "code",
   "execution_count": null,
   "id": "99438d1b",
   "metadata": {},
   "outputs": [],
   "source": [
    "# calculate the loss using negative log likelihood\n",
    "n = 0\n",
    "log_likelihood = 0\n",
    "\n",
    "for w in words:\n",
    "    chs = ['.'] + list(w) + ['.']\n",
    "    for ch1, ch2 in zip(chs, chs[1:]):\n",
    "        ix1 = stoi[ch1]\n",
    "        ix2 = stoi[ch2]\n",
    "        prob = P[ix1, ix2]\n",
    "        logprob = torch.log(prob)\n",
    "        log_likelihood += logprob\n",
    "        n += 1\n",
    "        \n",
    "nlls = -log_likelihood\n",
    "loss = nlls/n\n",
    "\n",
    "print(loss.item())"
   ]
  },
  {
   "cell_type": "markdown",
   "id": "8fba0907",
   "metadata": {},
   "source": [
    "Second approach is neural network"
   ]
  },
  {
   "cell_type": "code",
   "execution_count": null,
   "id": "2ab73869",
   "metadata": {},
   "outputs": [],
   "source": [
    "# initialize the network\n",
    "g = torch.Generator().manual_seed(2147483647)\n",
    "W = torch.randn((num_chars, num_chars), generator=g, requires_grad=True)"
   ]
  },
  {
   "cell_type": "code",
   "execution_count": null,
   "id": "2e643d2e",
   "metadata": {},
   "outputs": [],
   "source": [
    "# get the training dataset\n",
    "xs, ys = [], []\n",
    "\n",
    "for w in words:\n",
    "    chs = ['.'] + list(w) + ['.']\n",
    "    for ch1, ch2 in zip(chs, chs[1:]):\n",
    "        ix1 = stoi[ch1]\n",
    "        ix2 = stoi[ch2]\n",
    "        xs.append(ix1)\n",
    "        ys.append(ix2)\n",
    "xs = torch.tensor(xs)\n",
    "ys = torch.tensor(ys)\n",
    "num = xs.nelement()"
   ]
  },
  {
   "cell_type": "code",
   "execution_count": null,
   "id": "6ac7287b",
   "metadata": {},
   "outputs": [],
   "source": [
    "# gradient descent\n",
    "max_iters = 1000\n",
    "learning_rate = -50\n",
    "loss = 0\n",
    "\n",
    "for k in range(max_iters):\n",
    "    \n",
    "    # forward pass\n",
    "    xenc = F.one_hot(xs, num_classes=num_chars).float()\n",
    "    logits = xenc @ W\n",
    "    counts = logits.exp()\n",
    "    probs = counts / counts.sum(1, keepdim=True)\n",
    "    loss = -probs[torch.arange(num), ys].log().mean()\n",
    "    \n",
    "    # backward pass\n",
    "    W.grad = None\n",
    "    loss.backward()\n",
    "    \n",
    "    # update\n",
    "    W.data += learning_rate * W.grad\n",
    "\n",
    "print(loss.item())"
   ]
  },
  {
   "cell_type": "code",
   "execution_count": null,
   "id": "c682df41",
   "metadata": {},
   "outputs": [],
   "source": [
    "# example\n",
    "for i in range(5):\n",
    "    out = []\n",
    "    ix = 0\n",
    "    \n",
    "    while True:\n",
    "        # first approach\n",
    "        p = P[ix]\n",
    "        \n",
    "        # second approach\n",
    "        xenc = F.one_hot(torch.tensor([ix]), num_classes=num_chars).float()\n",
    "        logits = xenc @ W\n",
    "        counts = logits.exp()\n",
    "        p = counts / counts.sum(1, keepdim=True)\n",
    "        \n",
    "        ix = torch.multinomial(p, num_samples=1, replacement=True, generator=g).item()\n",
    "        out.append(itos[ix])\n",
    "\n",
    "        if ix == 0:\n",
    "            break\n",
    "    \n",
    "    print(''.join(out))"
   ]
  }
 ],
 "metadata": {
  "kernelspec": {
   "display_name": "Python 3",
   "language": "python",
   "name": "python3"
  },
  "language_info": {
   "codemirror_mode": {
    "name": "ipython",
    "version": 3
   },
   "file_extension": ".py",
   "mimetype": "text/x-python",
   "name": "python",
   "nbconvert_exporter": "python",
   "pygments_lexer": "ipython3",
   "version": "3.13.2"
  }
 },
 "nbformat": 4,
 "nbformat_minor": 5
}
